{
  "cells": [
    {
      "cell_type": "markdown",
      "metadata": {
        "id": "view-in-github",
        "colab_type": "text"
      },
      "source": [
        "<a href=\"https://colab.research.google.com/github/RafaelBarchiesi/RIGI/blob/main/Copia_de_Tesis.ipynb\" target=\"_parent\"><img src=\"https://colab.research.google.com/assets/colab-badge.svg\" alt=\"Open In Colab\"/></a>"
      ]
    },
    {
      "cell_type": "code",
      "execution_count": 1,
      "metadata": {
        "id": "zMKb-UHnu2OY"
      },
      "outputs": [],
      "source": [
        "import pandas as pd\n",
        "import sympy as sp\n",
        "import numpy as np\n",
        "from scipy.optimize import fsolve\n",
        "import seaborn as sns\n",
        "import matplotlib.pyplot as plt\n",
        "from mpl_toolkits.mplot3d import Axes3D"
      ]
    },
    {
      "cell_type": "markdown",
      "metadata": {
        "id": "BQxeIIxsawuk"
      },
      "source": [
        "Definimos las variabes y le damos valores a los parámetros que necesitemos."
      ]
    },
    {
      "cell_type": "code",
      "execution_count": 2,
      "metadata": {
        "id": "KzcCNVXqvA_R"
      },
      "outputs": [],
      "source": [
        "q = sp.symbols('q')\n",
        "b = sp.symbols('b')\n",
        "a = 100\n",
        "a0 = 5\n",
        "a1 = 2.5\n",
        "a2 = 1.5\n",
        "a3 = sp.symbols('a3')\n",
        "n = sp.symbols('n')\n",
        "qL = sp.symbols('qL')\n",
        "qS = sp.symbols('qS')"
      ]
    },
    {
      "cell_type": "markdown",
      "metadata": {
        "id": "eQWILpQ4vBWM"
      },
      "source": [
        "# **Stackelberg con 2 Firmas**"
      ]
    },
    {
      "cell_type": "code",
      "execution_count": 3,
      "metadata": {
        "id": "W_wUhBobvE_Q"
      },
      "outputs": [],
      "source": [
        "ingreso_S_2 = (a-b*(qL+qS))*qS"
      ]
    },
    {
      "cell_type": "code",
      "execution_count": 4,
      "metadata": {
        "id": "j8Hc_Bb3vICH"
      },
      "outputs": [],
      "source": [
        "costo_S_2 = a3*qS**3 + a2*qS**2 + a1*qS + a0"
      ]
    },
    {
      "cell_type": "code",
      "execution_count": 5,
      "metadata": {
        "colab": {
          "base_uri": "https://localhost:8080/",
          "height": 38
        },
        "id": "FxIeGGQAvce2",
        "outputId": "64c36361-4c50-492d-c953-057708bd7793"
      },
      "outputs": [
        {
          "output_type": "execute_result",
          "data": {
            "text/plain": [
              "-a3*qS**3 - 1.5*qS**2 + qS*(-b*(qL + qS) + 100) - 2.5*qS - 5"
            ],
            "text/latex": "$\\displaystyle - a_{3} qS^{3} - 1.5 qS^{2} + qS \\left(- b \\left(qL + qS\\right) + 100\\right) - 2.5 qS - 5$"
          },
          "metadata": {},
          "execution_count": 5
        }
      ],
      "source": [
        "beneficio_S_2 = ingreso_S_2 - costo_S_2\n",
        "beneficio_S_2"
      ]
    },
    {
      "cell_type": "code",
      "execution_count": 6,
      "metadata": {
        "colab": {
          "base_uri": "https://localhost:8080/",
          "height": 38
        },
        "id": "n0N6QYTpvhwf",
        "outputId": "e318691a-f225-4497-8a43-79c4017c513e"
      },
      "outputs": [
        {
          "output_type": "execute_result",
          "data": {
            "text/plain": [
              "-3*a3*qS**2 - b*qS - b*(qL + qS) - 3.0*qS + 97.5"
            ],
            "text/latex": "$\\displaystyle - 3 a_{3} qS^{2} - b qS - b \\left(qL + qS\\right) - 3.0 qS + 97.5$"
          },
          "metadata": {},
          "execution_count": 6
        }
      ],
      "source": [
        "beneficio_S_2_D = sp.diff(beneficio_S_2,qS)\n",
        "beneficio_S_2_D"
      ]
    },
    {
      "cell_type": "code",
      "execution_count": 7,
      "metadata": {
        "colab": {
          "base_uri": "https://localhost:8080/"
        },
        "id": "xbAeyOEVvyfg",
        "outputId": "4464acbe-7560-452a-94d7-aac1f700892c"
      },
      "outputs": [
        {
          "output_type": "stream",
          "name": "stdout",
          "text": [
            "0.166666666666667*(-2.0*b - 34.2052627529741*sqrt(-0.0102564102564103*a3*b*qL + a3 + 0.00341880341880342*b**2 + 0.0102564102564103*b + 0.00769230769230769) - 3.0)/a3\n",
            "0.166666666666667*(-2.0*b + 34.2052627529741*sqrt(-0.0102564102564103*a3*b*qL + a3 + 0.00341880341880342*b**2 + 0.0102564102564103*b + 0.00769230769230769) - 3.0)/a3\n"
          ]
        }
      ],
      "source": [
        "f_reaccion_S = sp.solve(beneficio_S_2_D, qS)\n",
        "print(f_reaccion_S[0])\n",
        "print(f_reaccion_S[1])"
      ]
    },
    {
      "cell_type": "code",
      "source": [
        "f_reaccion_S_1 = f_reaccion_S[1]\n",
        "f_reaccion_S_1"
      ],
      "metadata": {
        "colab": {
          "base_uri": "https://localhost:8080/",
          "height": 68
        },
        "id": "sjV_vny0BFa7",
        "outputId": "bbe00c04-92ec-4b89-bbc7-b8b84aad9414"
      },
      "execution_count": 8,
      "outputs": [
        {
          "output_type": "execute_result",
          "data": {
            "text/plain": [
              "0.166666666666667*(-2.0*b + 34.2052627529741*sqrt(-0.0102564102564103*a3*b*qL + a3 + 0.00341880341880342*b**2 + 0.0102564102564103*b + 0.00769230769230769) - 3.0)/a3"
            ],
            "text/latex": "$\\displaystyle \\frac{0.166666666666667 \\left(- 2.0 b + 34.2052627529741 \\sqrt{- 0.0102564102564103 a_{3} b qL + a_{3} + 0.00341880341880342 b^{2} + 0.0102564102564103 b + 0.00769230769230769} - 3.0\\right)}{a_{3}}$"
          },
          "metadata": {},
          "execution_count": 8
        }
      ]
    },
    {
      "cell_type": "code",
      "source": [
        "f_reaccion_S_0 = f_reaccion_S[0]\n",
        "f_reaccion_S_0"
      ],
      "metadata": {
        "colab": {
          "base_uri": "https://localhost:8080/",
          "height": 68
        },
        "id": "mzrbO8XgX-Bi",
        "outputId": "95fb271e-98ec-48f2-e0f5-b773fc65c642"
      },
      "execution_count": 9,
      "outputs": [
        {
          "output_type": "execute_result",
          "data": {
            "text/plain": [
              "0.166666666666667*(-2.0*b - 34.2052627529741*sqrt(-0.0102564102564103*a3*b*qL + a3 + 0.00341880341880342*b**2 + 0.0102564102564103*b + 0.00769230769230769) - 3.0)/a3"
            ],
            "text/latex": "$\\displaystyle \\frac{0.166666666666667 \\left(- 2.0 b - 34.2052627529741 \\sqrt{- 0.0102564102564103 a_{3} b qL + a_{3} + 0.00341880341880342 b^{2} + 0.0102564102564103 b + 0.00769230769230769} - 3.0\\right)}{a_{3}}$"
          },
          "metadata": {},
          "execution_count": 9
        }
      ]
    },
    {
      "cell_type": "code",
      "execution_count": 10,
      "metadata": {
        "colab": {
          "base_uri": "https://localhost:8080/",
          "height": 38
        },
        "id": "3ey4VOGjzCnK",
        "outputId": "56574cdf-2329-4577-d63d-c829615322a6"
      },
      "outputs": [
        {
          "output_type": "execute_result",
          "data": {
            "text/plain": [
              "-a3*qL**3 - 1.5*qL**2 + qL*(-b*(qL + qS) + 100) - 2.5*qL - 5"
            ],
            "text/latex": "$\\displaystyle - a_{3} qL^{3} - 1.5 qL^{2} + qL \\left(- b \\left(qL + qS\\right) + 100\\right) - 2.5 qL - 5$"
          },
          "metadata": {},
          "execution_count": 10
        }
      ],
      "source": [
        "ingreso_L_2 = (a-b*(qS+qL))*qL\n",
        "costo_L_2 = a3*qL**3 + a2*qL**2 + a1*qL + a0\n",
        "beneficio_L_2 = ingreso_L_2 - costo_L_2\n",
        "beneficio_L_2"
      ]
    },
    {
      "cell_type": "code",
      "source": [
        "beneficio_L_2_reemp_reaccion_1 = beneficio_L_2.subs('qS',f_reaccion_S_1)\n",
        "beneficio_L_2_reemp_reaccion_1"
      ],
      "metadata": {
        "colab": {
          "base_uri": "https://localhost:8080/",
          "height": 123
        },
        "id": "y9OFrlNTCUMb",
        "outputId": "092049e6-1a17-4b8d-f81e-02d1a5b0fee7"
      },
      "execution_count": 11,
      "outputs": [
        {
          "output_type": "execute_result",
          "data": {
            "text/plain": [
              "-a3*qL**3 - 1.5*qL**2 + qL*(-b*(qL + 0.166666666666667*(-2.0*b + 34.2052627529741*sqrt(-0.0102564102564103*a3*b*qL + a3 + 0.00341880341880342*b**2 + 0.0102564102564103*b + 0.00769230769230769) - 3.0)/a3) + 100) - 2.5*qL - 5"
            ],
            "text/latex": "$\\displaystyle - a_{3} qL^{3} - 1.5 qL^{2} + qL \\left(- b \\left(qL + \\frac{0.166666666666667 \\left(- 2.0 b + 34.2052627529741 \\sqrt{- 0.0102564102564103 a_{3} b qL + a_{3} + 0.00341880341880342 b^{2} + 0.0102564102564103 b + 0.00769230769230769} - 3.0\\right)}{a_{3}}\\right) + 100\\right) - 2.5 qL - 5$"
          },
          "metadata": {},
          "execution_count": 11
        }
      ]
    },
    {
      "cell_type": "code",
      "source": [
        "beneficio_L_2_reemp_reaccion_0 = beneficio_L_2.subs('qS',f_reaccion_S_0)\n",
        "beneficio_L_2_reemp_reaccion_0"
      ],
      "metadata": {
        "colab": {
          "base_uri": "https://localhost:8080/",
          "height": 123
        },
        "id": "ZYuZwB2RYOYT",
        "outputId": "36355f8d-0b29-44b2-fd86-3f62289d4a52"
      },
      "execution_count": 12,
      "outputs": [
        {
          "output_type": "execute_result",
          "data": {
            "text/plain": [
              "-a3*qL**3 - 1.5*qL**2 + qL*(-b*(qL + 0.166666666666667*(-2.0*b - 34.2052627529741*sqrt(-0.0102564102564103*a3*b*qL + a3 + 0.00341880341880342*b**2 + 0.0102564102564103*b + 0.00769230769230769) - 3.0)/a3) + 100) - 2.5*qL - 5"
            ],
            "text/latex": "$\\displaystyle - a_{3} qL^{3} - 1.5 qL^{2} + qL \\left(- b \\left(qL + \\frac{0.166666666666667 \\left(- 2.0 b - 34.2052627529741 \\sqrt{- 0.0102564102564103 a_{3} b qL + a_{3} + 0.00341880341880342 b^{2} + 0.0102564102564103 b + 0.00769230769230769} - 3.0\\right)}{a_{3}}\\right) + 100\\right) - 2.5 qL - 5$"
          },
          "metadata": {},
          "execution_count": 12
        }
      ]
    },
    {
      "cell_type": "code",
      "execution_count": 13,
      "metadata": {
        "colab": {
          "base_uri": "https://localhost:8080/",
          "height": 152
        },
        "id": "DPJueBCkzeZk",
        "outputId": "291872ca-3770-48e1-a79d-4d7b4676f2b3"
      },
      "outputs": [
        {
          "output_type": "execute_result",
          "data": {
            "text/plain": [
              "-3*a3*qL**2 - b*qL*(0.0292352673102343*b/sqrt(-0.0102564102564103*a3*b*qL + a3 + 0.00341880341880342*b**2 + 0.0102564102564103*b + 0.00769230769230769) + 1) - b*(qL + 0.166666666666667*(-2.0*b - 34.2052627529741*sqrt(-0.0102564102564103*a3*b*qL + a3 + 0.00341880341880342*b**2 + 0.0102564102564103*b + 0.00769230769230769) - 3.0)/a3) - 3.0*qL + 97.5"
            ],
            "text/latex": "$\\displaystyle - 3 a_{3} qL^{2} - b qL \\left(\\frac{0.0292352673102343 b}{\\sqrt{- 0.0102564102564103 a_{3} b qL + a_{3} + 0.00341880341880342 b^{2} + 0.0102564102564103 b + 0.00769230769230769}} + 1\\right) - b \\left(qL + \\frac{0.166666666666667 \\left(- 2.0 b - 34.2052627529741 \\sqrt{- 0.0102564102564103 a_{3} b qL + a_{3} + 0.00341880341880342 b^{2} + 0.0102564102564103 b + 0.00769230769230769} - 3.0\\right)}{a_{3}}\\right) - 3.0 qL + 97.5$"
          },
          "metadata": {},
          "execution_count": 13
        }
      ],
      "source": [
        "beneficio_L_2_reemp_D_reaccion_0 = sp.diff(beneficio_L_2_reemp_reaccion_0, qL)\n",
        "beneficio_L_2_reemp_D_reaccion_0"
      ]
    },
    {
      "cell_type": "code",
      "source": [
        "beneficio_L_2_reemp_D_reaccion_1 = sp.diff(beneficio_L_2_reemp_reaccion_1, qL)\n",
        "beneficio_L_2_reemp_D_reaccion_1"
      ],
      "metadata": {
        "colab": {
          "base_uri": "https://localhost:8080/",
          "height": 152
        },
        "id": "fJ_CqRZsYhr8",
        "outputId": "4bc82480-7af7-438d-89cc-a73258841f27"
      },
      "execution_count": 14,
      "outputs": [
        {
          "output_type": "execute_result",
          "data": {
            "text/plain": [
              "-3*a3*qL**2 - b*qL*(-0.0292352673102343*b/sqrt(-0.0102564102564103*a3*b*qL + a3 + 0.00341880341880342*b**2 + 0.0102564102564103*b + 0.00769230769230769) + 1) - b*(qL + 0.166666666666667*(-2.0*b + 34.2052627529741*sqrt(-0.0102564102564103*a3*b*qL + a3 + 0.00341880341880342*b**2 + 0.0102564102564103*b + 0.00769230769230769) - 3.0)/a3) - 3.0*qL + 97.5"
            ],
            "text/latex": "$\\displaystyle - 3 a_{3} qL^{2} - b qL \\left(- \\frac{0.0292352673102343 b}{\\sqrt{- 0.0102564102564103 a_{3} b qL + a_{3} + 0.00341880341880342 b^{2} + 0.0102564102564103 b + 0.00769230769230769}} + 1\\right) - b \\left(qL + \\frac{0.166666666666667 \\left(- 2.0 b + 34.2052627529741 \\sqrt{- 0.0102564102564103 a_{3} b qL + a_{3} + 0.00341880341880342 b^{2} + 0.0102564102564103 b + 0.00769230769230769} - 3.0\\right)}{a_{3}}\\right) - 3.0 qL + 97.5$"
          },
          "metadata": {},
          "execution_count": 14
        }
      ]
    },
    {
      "cell_type": "code",
      "source": [
        "beneficio_L_2_reemp_DD_reaccion_0 = sp.diff(beneficio_L_2_reemp_D_reaccion_0, qL)\n",
        "beneficio_L_2_reemp_DD_reaccion_0"
      ],
      "metadata": {
        "colab": {
          "base_uri": "https://localhost:8080/",
          "height": 114
        },
        "id": "KarlH1i0CKIN",
        "outputId": "1f3150a0-77fe-4f15-d414-7fbb95b122c2"
      },
      "execution_count": 15,
      "outputs": [
        {
          "output_type": "execute_result",
          "data": {
            "text/plain": [
              "-0.000149924447744791*a3*b**3*qL/(-0.0102564102564103*a3*b*qL + a3 + 0.00341880341880342*b**2 + 0.0102564102564103*b + 0.00769230769230769)**(3/2) - 6*a3*qL - 2*b*(0.0292352673102343*b/sqrt(-0.0102564102564103*a3*b*qL + a3 + 0.00341880341880342*b**2 + 0.0102564102564103*b + 0.00769230769230769) + 1) - 3.0"
            ],
            "text/latex": "$\\displaystyle - \\frac{0.000149924447744791 a_{3} b^{3} qL}{\\left(- 0.0102564102564103 a_{3} b qL + a_{3} + 0.00341880341880342 b^{2} + 0.0102564102564103 b + 0.00769230769230769\\right)^{\\frac{3}{2}}} - 6 a_{3} qL - 2 b \\left(\\frac{0.0292352673102343 b}{\\sqrt{- 0.0102564102564103 a_{3} b qL + a_{3} + 0.00341880341880342 b^{2} + 0.0102564102564103 b + 0.00769230769230769}} + 1\\right) - 3.0$"
          },
          "metadata": {},
          "execution_count": 15
        }
      ]
    },
    {
      "cell_type": "code",
      "source": [
        "beneficio_L_2_reemp_DD_reaccion_1 = sp.diff(beneficio_L_2_reemp_D_reaccion_1, qL)\n",
        "beneficio_L_2_reemp_DD_reaccion_1"
      ],
      "metadata": {
        "colab": {
          "base_uri": "https://localhost:8080/",
          "height": 114
        },
        "id": "UF3Vo4LRZVTx",
        "outputId": "94fce5c1-363b-4a39-ff9d-0e5b23d57125"
      },
      "execution_count": 16,
      "outputs": [
        {
          "output_type": "execute_result",
          "data": {
            "text/plain": [
              "0.000149924447744791*a3*b**3*qL/(-0.0102564102564103*a3*b*qL + a3 + 0.00341880341880342*b**2 + 0.0102564102564103*b + 0.00769230769230769)**(3/2) - 6*a3*qL - 2*b*(-0.0292352673102343*b/sqrt(-0.0102564102564103*a3*b*qL + a3 + 0.00341880341880342*b**2 + 0.0102564102564103*b + 0.00769230769230769) + 1) - 3.0"
            ],
            "text/latex": "$\\displaystyle \\frac{0.000149924447744791 a_{3} b^{3} qL}{\\left(- 0.0102564102564103 a_{3} b qL + a_{3} + 0.00341880341880342 b^{2} + 0.0102564102564103 b + 0.00769230769230769\\right)^{\\frac{3}{2}}} - 6 a_{3} qL - 2 b \\left(- \\frac{0.0292352673102343 b}{\\sqrt{- 0.0102564102564103 a_{3} b qL + a_{3} + 0.00341880341880342 b^{2} + 0.0102564102564103 b + 0.00769230769230769}} + 1\\right) - 3.0$"
          },
          "metadata": {},
          "execution_count": 16
        }
      ]
    },
    {
      "cell_type": "markdown",
      "metadata": {
        "id": "9gUKxzIiJNsD"
      },
      "source": [
        "Vamos a hacer un bucle donde le vamos a ir dando valores a `a3` entre 0.2 y 6, y a su vez a `b` entre 0.2 y 4.\n",
        "\n",
        "\n",
        "\n"
      ]
    },
    {
      "cell_type": "code",
      "source": [
        "f_reaccion_S_1_derivada = sp.diff(f_reaccion_S_1, qL)\n",
        "f_reaccion_S_1_derivada"
      ],
      "metadata": {
        "colab": {
          "base_uri": "https://localhost:8080/",
          "height": 59
        },
        "id": "SdImI63vgNLt",
        "outputId": "84c8d746-8954-4fb0-95e9-e3b56a8acc71"
      },
      "execution_count": 17,
      "outputs": [
        {
          "output_type": "execute_result",
          "data": {
            "text/plain": [
              "-0.0292352673102343*b/sqrt(-0.0102564102564103*a3*b*qL + a3 + 0.00341880341880342*b**2 + 0.0102564102564103*b + 0.00769230769230769)"
            ],
            "text/latex": "$\\displaystyle - \\frac{0.0292352673102343 b}{\\sqrt{- 0.0102564102564103 a_{3} b qL + a_{3} + 0.00341880341880342 b^{2} + 0.0102564102564103 b + 0.00769230769230769}}$"
          },
          "metadata": {},
          "execution_count": 17
        }
      ]
    },
    {
      "cell_type": "code",
      "source": [
        "resultados_reaccion_1 = []\n",
        "\n",
        "for a3 in np.arange(0.2, 3, 0.2):\n",
        "\n",
        "    for b in np.arange(10, 200, 10):\n",
        "\n",
        "      beneficio_L_2_reemp_D_mod = beneficio_L_2_reemp_D_reaccion_1.subs('a3', a3).subs('b', b)\n",
        "      soluciones = sp.solve(beneficio_L_2_reemp_D_mod, qL)\n",
        "      #print(soluciones)\n",
        "\n",
        "\n",
        "      for solucion in soluciones:\n",
        "\n",
        "        beneficio_L_2_reemp_DD_mod = beneficio_L_2_reemp_DD_reaccion_1.subs('a3', a3).subs('b', b).subs('qL',solucion)\n",
        "\n",
        "        if solucion < 0 or solucion:\n",
        "          soluciones.remove(solucion)\n",
        "\n",
        "        elif solucion.is_real == False:\n",
        "          soluciones.remove(solucion)\n",
        "\n",
        "        elif beneficio_L_2_reemp_DD_mod > 0:\n",
        "          soluciones.remove(solucion)\n",
        "\n",
        "      cantidades_segudiora = []\n",
        "      beneficios_lider = []\n",
        "      beneficios_segudiora = []\n",
        "\n",
        "      for sol in soluciones:\n",
        "        q_seguidora = f_reaccion_S_1.subs('a3', a3).subs('b', b).subs('qL',sol)\n",
        "        cantidades_segudiora.append(q_seguidora)\n",
        "        beneficio_lider = beneficio_L_2_reemp_reaccion_1.subs('a3', a3).subs('b', b).subs('qL',sol)\n",
        "        beneficios_lider.append(beneficio_lider)\n",
        "        beneficio_segudiora = beneficio_S_2.subs('a3', a3).subs('b', b).subs('qL',sol).subs('qS', q_seguidora)\n",
        "        beneficios_segudiora.append(beneficio_segudiora)\n",
        "\n",
        "      fila_resultado = {'valor_a3': a3, 'valor_b': b}\n",
        "\n",
        "      for idx, cant_lider in enumerate(soluciones):\n",
        "        fila_resultado[f'q_lider{idx + 1}'] = cant_lider\n",
        "\n",
        "      for idx, cant_seguidora in enumerate(cantidades_segudiora):\n",
        "        fila_resultado[f'q_segudiora{idx + 1}'] = cant_seguidora\n",
        "\n",
        "      for idx, benef_lider in enumerate(beneficios_lider):\n",
        "        fila_resultado[f'beneficio_lider{idx + 1}'] = benef_lider\n",
        "\n",
        "      for idx, benef_seguidora in enumerate(beneficios_segudiora):\n",
        "        fila_resultado[f'beneficio_seguidora{idx + 1}'] = benef_seguidora\n",
        "\n",
        "      resultados_reaccion_1.append(fila_resultado)\n",
        "\n",
        "df_resultados_reaccion_1 = pd.DataFrame(resultados_reaccion_1)\n",
        "\n",
        "df_resultados_reaccion_1.head(30)"
      ],
      "metadata": {
        "id": "XybMyS2XY5ex"
      },
      "execution_count": null,
      "outputs": []
    },
    {
      "cell_type": "code",
      "source": [
        "df_resultados_reaccion_1.plot(kind = 'scatter', x = 'valor_a3', y = 'q_lider1')"
      ],
      "metadata": {
        "colab": {
          "base_uri": "https://localhost:8080/",
          "height": 471
        },
        "id": "EOU3oppqznA5",
        "outputId": "b9b14e08-c979-4892-d674-8b438b2b3958"
      },
      "execution_count": 19,
      "outputs": [
        {
          "output_type": "execute_result",
          "data": {
            "text/plain": [
              "<Axes: xlabel='valor_a3', ylabel='q_lider1'>"
            ]
          },
          "metadata": {},
          "execution_count": 19
        },
        {
          "output_type": "display_data",
          "data": {
            "text/plain": [
              "<Figure size 640x480 with 1 Axes>"
            ],
            "image/png": "[encoded data removed]"
          },
          "metadata": {}
        }
      ]
    },
    {
      "cell_type": "code",
      "source": [
        "df_resultados_reaccion_1.plot(kind = 'scatter', x = 'valor_b', y = 'q_lider1')"
      ],
      "metadata": {
        "colab": {
          "base_uri": "https://localhost:8080/",
          "height": 471
        },
        "id": "ur3K9k0wz48s",
        "outputId": "9156f05d-8406-4d2f-f39d-947ffacb5e3f"
      },
      "execution_count": 20,
      "outputs": [
        {
          "output_type": "execute_result",
          "data": {
            "text/plain": [
              "<Axes: xlabel='valor_b', ylabel='q_lider1'>"
            ]
          },
          "metadata": {},
          "execution_count": 20
        },
        {
          "output_type": "display_data",
          "data": {
            "text/plain": [
              "<Figure size 640x480 with 1 Axes>"
            ],
            "image/png": "[encoded data removed]"
          },
          "metadata": {}
        }
      ]
    },
    {
      "cell_type": "code",
      "execution_count": 21,
      "metadata": {
        "colab": {
          "base_uri": "https://localhost:8080/",
          "height": 415
        },
        "id": "2ojt6S4dwynx",
        "outputId": "e0f8dfd0-f832-4395-f67b-1ec7160342c2"
      },
      "outputs": [
        {
          "output_type": "display_data",
          "data": {
            "text/plain": [
              "<Figure size 640x480 with 1 Axes>"
            ],
            "image/png": "[encoded data removed]"
          },
          "metadata": {}
        }
      ],
      "source": [
        "fig = plt.figure()\n",
        "ax = fig.add_subplot(projection='3d')\n",
        "ax.scatter(df_resultados_reaccion_1['valor_a3'], df_resultados_reaccion_1['valor_b'], df_resultados_reaccion_1['q_lider1'], c=df_resultados_reaccion_1['q_lider1'], cmap='viridis')\n",
        "\n",
        "ax.set_xlabel('valor_a3')\n",
        "ax.set_ylabel('valor_b')\n",
        "ax.set_zlabel('q_lider1')\n",
        "\n",
        "plt.show()\n"
      ]
    },
    {
      "cell_type": "code",
      "source": [
        "resultados_reaccion_1_uno = []\n",
        "\n",
        "for a3 in np.arange(0.1, 1, 0.1):\n",
        "\n",
        "    for b in np.arange(100, 200, 25):\n",
        "\n",
        "      beneficio_L_2_reemp_D_mod = beneficio_L_2_reemp_D_reaccion_1.subs('a3', a3).subs('b', b)\n",
        "      soluciones = sp.solve(beneficio_L_2_reemp_D_mod, qL)\n",
        "      #print(soluciones)\n",
        "\n",
        "\n",
        "      for solucion in soluciones:\n",
        "\n",
        "        beneficio_L_2_reemp_DD_mod = beneficio_L_2_reemp_DD_reaccion_1.subs('a3', a3).subs('b', b).subs('qL',solucion)\n",
        "\n",
        "        if solucion < 0 or solucion:\n",
        "          soluciones.remove(solucion)\n",
        "\n",
        "        elif solucion.is_real == False:\n",
        "          soluciones.remove(solucion)\n",
        "\n",
        "        elif beneficio_L_2_reemp_DD_mod > 0:\n",
        "          soluciones.remove(solucion)\n",
        "\n",
        "      cantidades_segudiora = []\n",
        "      beneficios_lider = []\n",
        "      beneficios_segudiora = []\n",
        "\n",
        "      for sol in soluciones:\n",
        "        q_seguidora = f_reaccion_S_1.subs('a3', a3).subs('b', b).subs('qL',sol)\n",
        "        cantidades_segudiora.append(q_seguidora)\n",
        "        beneficio_lider = beneficio_L_2_reemp_reaccion_1.subs('a3', a3).subs('b', b).subs('qL',sol)\n",
        "        beneficios_lider.append(beneficio_lider)\n",
        "        beneficio_segudiora = beneficio_S_2.subs('a3', a3).subs('b', b).subs('qL',sol).subs('qS', q_seguidora)\n",
        "        beneficios_segudiora.append(beneficio_segudiora)\n",
        "\n",
        "      fila_resultado = {'valor_a3': a3, 'valor_b': b}\n",
        "\n",
        "      for idx, cant_lider in enumerate(soluciones):\n",
        "        fila_resultado[f'q_lider{idx + 1}'] = cant_lider\n",
        "\n",
        "      for idx, cant_seguidora in enumerate(cantidades_segudiora):\n",
        "        fila_resultado[f'q_segudiora{idx + 1}'] = cant_seguidora\n",
        "\n",
        "      for idx, benef_lider in enumerate(beneficios_lider):\n",
        "        fila_resultado[f'beneficio_lider{idx + 1}'] = benef_lider\n",
        "\n",
        "      for idx, benef_seguidora in enumerate(beneficios_segudiora):\n",
        "        fila_resultado[f'beneficio_seguidora{idx + 1}'] = benef_seguidora\n",
        "\n",
        "      resultados_reaccion_1_uno.append(fila_resultado)\n",
        "\n",
        "df_resultados_reaccion_1_uno = pd.DataFrame(resultados_reaccion_1_uno)\n",
        "\n",
        "df_resultados_reaccion_1_uno.head(30)"
      ],
      "metadata": {
        "colab": {
          "base_uri": "https://localhost:8080/",
          "height": 990
        },
        "id": "XZKJvvqmwY0g",
        "outputId": "73331fb2-9c0e-42ae-fb0b-81b10a67656b"
      },
      "execution_count": null,
      "outputs": [
        {
          "output_type": "execute_result",
          "data": {
            "text/plain": [
              "    valor_a3  valor_b           q_lider1       q_segudiora1  beneficio_lider1  \\\n",
              "0        0.1      100  0.472783670472459  0.247306821446273  6.70585081971388   \n",
              "1        0.1      125  0.380588072714565  0.197291753754428  4.39278227621842   \n",
              "2        0.1      150  0.318467919988135  0.164098130504556  2.84298856167783   \n",
              "3        0.1      175  0.273774792359934  0.140463151184122  1.73217756369415   \n",
              "4        0.2      100  0.472070149108201  0.247567543232037  6.69957673898507   \n",
              "5        0.2      125  0.380213707902307  0.197430431806197  4.38947237306690   \n",
              "6        0.2      150  0.318247773843048  0.164180398685033  2.84103515778325   \n",
              "7        0.2      175  0.273634581577942  0.140515867984107  1.73093028040608   \n",
              "8        0.3      100  0.471361202184201  0.247825635421506  6.69334959655753   \n",
              "9        0.3      125  0.379840904619638  0.197568209663359  4.38617856045252   \n",
              "10       0.3      150  0.318028272145824  0.164262294675979  2.83908841268440   \n",
              "11       0.3      175  0.273494674564878  0.140568409125422  1.72968614189109   \n",
              "12       0.4      100  0.470656781429828  0.248081126908303  6.68716887452326   \n",
              "13       0.4      125  0.379469652141633  0.197705093744617  4.38290072314284   \n",
              "14       0.4      150  0.317809411787050  0.164343820337990  2.83714829296703   \n",
              "15       0.4      175  0.273355070238931  0.140620775255741  1.72844513647892   \n",
              "16       0.5      100  0.469956839281912  0.248334046177703  6.68103406223490   \n",
              "17       0.5      125  0.379099939841829  0.197841090411842  4.37963874694745   \n",
              "18       0.5      150  0.317591189680510  0.164424977518408  2.83521476543152   \n",
              "19       0.5      175  0.273215767520615  0.140672967021018  1.72720725256419   \n",
              "20       0.6      100  0.469261328868144  0.248584421315506  6.67494465618444   \n",
              "21       0.6      125  0.378731757196360  0.197976205967677  4.37639251872028   \n",
              "22       0.6      150  0.317373602759135  0.164505768053544  2.83328779708713   \n",
              "23       0.6      175  0.273076765335512  0.140724985064395  1.72597247858788   \n",
              "24       0.7      100  0.468570203996502  0.248832280013985  6.66890015988333   \n",
              "25       0.7      125  0.378365093780688  0.198110446657545  4.37316192633904   \n",
              "26       0.7      150  0.317156647977385  0.164586193767406  2.83136735515322   \n",
              "27       0.7      175  0.272938062617005  0.140776830024649  1.72474080304896   \n",
              "28       0.8      100  0.467883419141385  0.249077649579384  6.66290008374105   \n",
              "29       0.8      125  0.377999939269461  0.198243818669489  4.36994685870048   \n",
              "\n",
              "   beneficio_seguidora1  \n",
              "0      1.21083247916086  \n",
              "1   -0.0745735551485627  \n",
              "2    -0.919494466750375  \n",
              "3     -1.51711894294723  \n",
              "4      1.22697271392656  \n",
              "5   -0.0661066729135280  \n",
              "6    -0.914516491765973  \n",
              "7     -1.51394905610997  \n",
              "8      1.24301338091973  \n",
              "9   -0.0576734887340251  \n",
              "10   -0.909552344849475  \n",
              "11    -1.51078566082329  \n",
              "12     1.25895529372925  \n",
              "13  -0.0492738249949589  \n",
              "14   -0.904601975082343  \n",
              "15    -1.50762873954309  \n",
              "16     1.27479925742133  \n",
              "17  -0.0409075051788168  \n",
              "18   -0.899665331842230  \n",
              "19    -1.50447827471063  \n",
              "20     1.29054606872653  \n",
              "21  -0.0325743539894070  \n",
              "22   -0.894742364706333  \n",
              "23    -1.50133424882059  \n",
              "24     1.30619651608403  \n",
              "25  -0.0242741972923124  \n",
              "26   -0.889833023513214  \n",
              "27    -1.49819664448906  \n",
              "28     1.32175137977338  \n",
              "29  -0.0160068621322385  "
            ],
            "text/html": [
              "\n",
              "  <div id=\"df-abb7ecf6-ec1e-4bfc-a6e4-49c13d8b32b0\" class=\"colab-df-container\">\n",
              "    <div>\n",
              "<style scoped>\n",
              "    .dataframe tbody tr th:only-of-type {\n",
              "        vertical-align: middle;\n",
              "    }\n",
              "\n",
              "    .dataframe tbody tr th {\n",
              "        vertical-align: top;\n",
              "    }\n",
              "\n",
              "    .dataframe thead th {\n",
              "        text-align: right;\n",
              "    }\n",
              "</style>\n",
              "<table border=\"1\" class=\"dataframe\">\n",
              "  <thead>\n",
              "    <tr style=\"text-align: right;\">\n",
              "      <th></th>\n",
              "      <th>valor_a3</th>\n",
              "      <th>valor_b</th>\n",
              "      <th>q_lider1</th>\n",
              "      <th>q_segudiora1</th>\n",
              "      <th>beneficio_lider1</th>\n",
              "      <th>beneficio_seguidora1</th>\n",
              "    </tr>\n",
              "  </thead>\n",
              "  <tbody>\n",
              "    <tr>\n",
              "      <th>0</th>\n",
              "      <td>0.1</td>\n",
              "      <td>100</td>\n",
              "      <td>0.472783670472459</td>\n",
              "      <td>0.247306821446273</td>\n",
              "      <td>6.70585081971388</td>\n",
              "      <td>1.21083247916086</td>\n",
              "    </tr>\n",
              "    <tr>\n",
              "      <th>1</th>\n",
              "      <td>0.1</td>\n",
              "      <td>125</td>\n",
              "      <td>0.380588072714565</td>\n",
              "      <td>0.197291753754428</td>\n",
              "      <td>4.39278227621842</td>\n",
              "      <td>-0.0745735551485627</td>\n",
              "    </tr>\n",
              "    <tr>\n",
              "      <th>2</th>\n",
              "      <td>0.1</td>\n",
              "      <td>150</td>\n",
              "      <td>0.318467919988135</td>\n",
              "      <td>0.164098130504556</td>\n",
              "      <td>2.84298856167783</td>\n",
              "      <td>-0.919494466750375</td>\n",
              "    </tr>\n",
              "    <tr>\n",
              "      <th>3</th>\n",
              "      <td>0.1</td>\n",
              "      <td>175</td>\n",
              "      <td>0.273774792359934</td>\n",
              "      <td>0.140463151184122</td>\n",
              "      <td>1.73217756369415</td>\n",
              "      <td>-1.51711894294723</td>\n",
              "    </tr>\n",
              "    <tr>\n",
              "      <th>4</th>\n",
              "      <td>0.2</td>\n",
              "      <td>100</td>\n",
              "      <td>0.472070149108201</td>\n",
              "      <td>0.247567543232037</td>\n",
              "      <td>6.69957673898507</td>\n",
              "      <td>1.22697271392656</td>\n",
              "    </tr>\n",
              "    <tr>\n",
              "      <th>5</th>\n",
              "      <td>0.2</td>\n",
              "      <td>125</td>\n",
              "      <td>0.380213707902307</td>\n",
              "      <td>0.197430431806197</td>\n",
              "      <td>4.38947237306690</td>\n",
              "      <td>-0.0661066729135280</td>\n",
              "    </tr>\n",
              "    <tr>\n",
              "      <th>6</th>\n",
              "      <td>0.2</td>\n",
              "      <td>150</td>\n",
              "      <td>0.318247773843048</td>\n",
              "      <td>0.164180398685033</td>\n",
              "      <td>2.84103515778325</td>\n",
              "      <td>-0.914516491765973</td>\n",
              "    </tr>\n",
              "    <tr>\n",
              "      <th>7</th>\n",
              "      <td>0.2</td>\n",
              "      <td>175</td>\n",
              "      <td>0.273634581577942</td>\n",
              "      <td>0.140515867984107</td>\n",
              "      <td>1.73093028040608</td>\n",
              "      <td>-1.51394905610997</td>\n",
              "    </tr>\n",
              "    <tr>\n",
              "      <th>8</th>\n",
              "      <td>0.3</td>\n",
              "      <td>100</td>\n",
              "      <td>0.471361202184201</td>\n",
              "      <td>0.247825635421506</td>\n",
              "      <td>6.69334959655753</td>\n",
              "      <td>1.24301338091973</td>\n",
              "    </tr>\n",
              "    <tr>\n",
              "      <th>9</th>\n",
              "      <td>0.3</td>\n",
              "      <td>125</td>\n",
              "      <td>0.379840904619638</td>\n",
              "      <td>0.197568209663359</td>\n",
              "      <td>4.38617856045252</td>\n",
              "      <td>-0.0576734887340251</td>\n",
              "    </tr>\n",
              "    <tr>\n",
              "      <th>10</th>\n",
              "      <td>0.3</td>\n",
              "      <td>150</td>\n",
              "      <td>0.318028272145824</td>\n",
              "      <td>0.164262294675979</td>\n",
              "      <td>2.83908841268440</td>\n",
              "      <td>-0.909552344849475</td>\n",
              "    </tr>\n",
              "    <tr>\n",
              "      <th>11</th>\n",
              "      <td>0.3</td>\n",
              "      <td>175</td>\n",
              "      <td>0.273494674564878</td>\n",
              "      <td>0.140568409125422</td>\n",
              "      <td>1.72968614189109</td>\n",
              "      <td>-1.51078566082329</td>\n",
              "    </tr>\n",
              "    <tr>\n",
              "      <th>12</th>\n",
              "      <td>0.4</td>\n",
              "      <td>100</td>\n",
              "      <td>0.470656781429828</td>\n",
              "      <td>0.248081126908303</td>\n",
              "      <td>6.68716887452326</td>\n",
              "      <td>1.25895529372925</td>\n",
              "    </tr>\n",
              "    <tr>\n",
              "      <th>13</th>\n",
              "      <td>0.4</td>\n",
              "      <td>125</td>\n",
              "      <td>0.379469652141633</td>\n",
              "      <td>0.197705093744617</td>\n",
              "      <td>4.38290072314284</td>\n",
              "      <td>-0.0492738249949589</td>\n",
              "    </tr>\n",
              "    <tr>\n",
              "      <th>14</th>\n",
              "      <td>0.4</td>\n",
              "      <td>150</td>\n",
              "      <td>0.317809411787050</td>\n",
              "      <td>0.164343820337990</td>\n",
              "      <td>2.83714829296703</td>\n",
              "      <td>-0.904601975082343</td>\n",
              "    </tr>\n",
              "    <tr>\n",
              "      <th>15</th>\n",
              "      <td>0.4</td>\n",
              "      <td>175</td>\n",
              "      <td>0.273355070238931</td>\n",
              "      <td>0.140620775255741</td>\n",
              "      <td>1.72844513647892</td>\n",
              "      <td>-1.50762873954309</td>\n",
              "    </tr>\n",
              "    <tr>\n",
              "      <th>16</th>\n",
              "      <td>0.5</td>\n",
              "      <td>100</td>\n",
              "      <td>0.469956839281912</td>\n",
              "      <td>0.248334046177703</td>\n",
              "      <td>6.68103406223490</td>\n",
              "      <td>1.27479925742133</td>\n",
              "    </tr>\n",
              "    <tr>\n",
              "      <th>17</th>\n",
              "      <td>0.5</td>\n",
              "      <td>125</td>\n",
              "      <td>0.379099939841829</td>\n",
              "      <td>0.197841090411842</td>\n",
              "      <td>4.37963874694745</td>\n",
              "      <td>-0.0409075051788168</td>\n",
              "    </tr>\n",
              "    <tr>\n",
              "      <th>18</th>\n",
              "      <td>0.5</td>\n",
              "      <td>150</td>\n",
              "      <td>0.317591189680510</td>\n",
              "      <td>0.164424977518408</td>\n",
              "      <td>2.83521476543152</td>\n",
              "      <td>-0.899665331842230</td>\n",
              "    </tr>\n",
              "    <tr>\n",
              "      <th>19</th>\n",
              "      <td>0.5</td>\n",
              "      <td>175</td>\n",
              "      <td>0.273215767520615</td>\n",
              "      <td>0.140672967021018</td>\n",
              "      <td>1.72720725256419</td>\n",
              "      <td>-1.50447827471063</td>\n",
              "    </tr>\n",
              "    <tr>\n",
              "      <th>20</th>\n",
              "      <td>0.6</td>\n",
              "      <td>100</td>\n",
              "      <td>0.469261328868144</td>\n",
              "      <td>0.248584421315506</td>\n",
              "      <td>6.67494465618444</td>\n",
              "      <td>1.29054606872653</td>\n",
              "    </tr>\n",
              "    <tr>\n",
              "      <th>21</th>\n",
              "      <td>0.6</td>\n",
              "      <td>125</td>\n",
              "      <td>0.378731757196360</td>\n",
              "      <td>0.197976205967677</td>\n",
              "      <td>4.37639251872028</td>\n",
              "      <td>-0.0325743539894070</td>\n",
              "    </tr>\n",
              "    <tr>\n",
              "      <th>22</th>\n",
              "      <td>0.6</td>\n",
              "      <td>150</td>\n",
              "      <td>0.317373602759135</td>\n",
              "      <td>0.164505768053544</td>\n",
              "      <td>2.83328779708713</td>\n",
              "      <td>-0.894742364706333</td>\n",
              "    </tr>\n",
              "    <tr>\n",
              "      <th>23</th>\n",
              "      <td>0.6</td>\n",
              "      <td>175</td>\n",
              "      <td>0.273076765335512</td>\n",
              "      <td>0.140724985064395</td>\n",
              "      <td>1.72597247858788</td>\n",
              "      <td>-1.50133424882059</td>\n",
              "    </tr>\n",
              "    <tr>\n",
              "      <th>24</th>\n",
              "      <td>0.7</td>\n",
              "      <td>100</td>\n",
              "      <td>0.468570203996502</td>\n",
              "      <td>0.248832280013985</td>\n",
              "      <td>6.66890015988333</td>\n",
              "      <td>1.30619651608403</td>\n",
              "    </tr>\n",
              "    <tr>\n",
              "      <th>25</th>\n",
              "      <td>0.7</td>\n",
              "      <td>125</td>\n",
              "      <td>0.378365093780688</td>\n",
              "      <td>0.198110446657545</td>\n",
              "      <td>4.37316192633904</td>\n",
              "      <td>-0.0242741972923124</td>\n",
              "    </tr>\n",
              "    <tr>\n",
              "      <th>26</th>\n",
              "      <td>0.7</td>\n",
              "      <td>150</td>\n",
              "      <td>0.317156647977385</td>\n",
              "      <td>0.164586193767406</td>\n",
              "      <td>2.83136735515322</td>\n",
              "      <td>-0.889833023513214</td>\n",
              "    </tr>\n",
              "    <tr>\n",
              "      <th>27</th>\n",
              "      <td>0.7</td>\n",
              "      <td>175</td>\n",
              "      <td>0.272938062617005</td>\n",
              "      <td>0.140776830024649</td>\n",
              "      <td>1.72474080304896</td>\n",
              "      <td>-1.49819664448906</td>\n",
              "    </tr>\n",
              "    <tr>\n",
              "      <th>28</th>\n",
              "      <td>0.8</td>\n",
              "      <td>100</td>\n",
              "      <td>0.467883419141385</td>\n",
              "      <td>0.249077649579384</td>\n",
              "      <td>6.66290008374105</td>\n",
              "      <td>1.32175137977338</td>\n",
              "    </tr>\n",
              "    <tr>\n",
              "      <th>29</th>\n",
              "      <td>0.8</td>\n",
              "      <td>125</td>\n",
              "      <td>0.377999939269461</td>\n",
              "      <td>0.198243818669489</td>\n",
              "      <td>4.36994685870048</td>\n",
              "      <td>-0.0160068621322385</td>\n",
              "    </tr>\n",
              "  </tbody>\n",
              "</table>\n",
              "</div>\n",
              "    <div class=\"colab-df-buttons\">\n",
              "\n",
              "  <div class=\"colab-df-container\">\n",
              "    <button class=\"colab-df-convert\" onclick=\"convertToInteractive('df-abb7ecf6-ec1e-4bfc-a6e4-49c13d8b32b0')\"\n",
              "            title=\"Convert this dataframe to an interactive table.\"\n",
              "            style=\"display:none;\">\n",
              "\n",
              "  <svg xmlns=\"http://www.w3.org/2000/svg\" height=\"24px\" viewBox=\"0 -960 960 960\">\n",
              "    <path d=\"M120-120v-720h720v720H120Zm60-500h600v-160H180v160Zm220 220h160v-160H400v160Zm0 220h160v-160H400v160ZM180-400h160v-160H180v160Zm440 0h160v-160H620v160ZM180-180h160v-160H180v160Zm440 0h160v-160H620v160Z\"/>\n",
              "  </svg>\n",
              "    </button>\n",
              "\n",
              "  <style>\n",
              "    .colab-df-container {\n",
              "      display:flex;\n",
              "      gap: 12px;\n",
              "    }\n",
              "\n",
              "    .colab-df-convert {\n",
              "      background-color: #E8F0FE;\n",
              "      border: none;\n",
              "      border-radius: 50%;\n",
              "      cursor: pointer;\n",
              "      display: none;\n",
              "      fill: #1967D2;\n",
              "      height: 32px;\n",
              "      padding: 0 0 0 0;\n",
              "      width: 32px;\n",
              "    }\n",
              "\n",
              "    .colab-df-convert:hover {\n",
              "      background-color: #E2EBFA;\n",
              "      box-shadow: 0px 1px 2px rgba(60, 64, 67, 0.3), 0px 1px 3px 1px rgba(60, 64, 67, 0.15);\n",
              "      fill: #174EA6;\n",
              "    }\n",
              "\n",
              "    .colab-df-buttons div {\n",
              "      margin-bottom: 4px;\n",
              "    }\n",
              "\n",
              "    [theme=dark] .colab-df-convert {\n",
              "      background-color: #3B4455;\n",
              "      fill: #D2E3FC;\n",
              "    }\n",
              "\n",
              "    [theme=dark] .colab-df-convert:hover {\n",
              "      background-color: #434B5C;\n",
              "      box-shadow: 0px 1px 3px 1px rgba(0, 0, 0, 0.15);\n",
              "      filter: drop-shadow(0px 1px 2px rgba(0, 0, 0, 0.3));\n",
              "      fill: #FFFFFF;\n",
              "    }\n",
              "  </style>\n",
              "\n",
              "    <script>\n",
              "      const buttonEl =\n",
              "        document.querySelector('#df-abb7ecf6-ec1e-4bfc-a6e4-49c13d8b32b0 button.colab-df-convert');\n",
              "      buttonEl.style.display =\n",
              "        google.colab.kernel.accessAllowed ? 'block' : 'none';\n",
              "\n",
              "      async function convertToInteractive(key) {\n",
              "        const element = document.querySelector('#df-abb7ecf6-ec1e-4bfc-a6e4-49c13d8b32b0');\n",
              "        const dataTable =\n",
              "          await google.colab.kernel.invokeFunction('convertToInteractive',\n",
              "                                                    [key], {});\n",
              "        if (!dataTable) return;\n",
              "\n",
              "        const docLinkHtml = 'Like what you see? Visit the ' +\n",
              "          '<a target=\"_blank\" href=https://colab.research.google.com/notebooks/data_table.ipynb>data table notebook</a>'\n",
              "          + ' to learn more about interactive tables.';\n",
              "        element.innerHTML = '';\n",
              "        dataTable['output_type'] = 'display_data';\n",
              "        await google.colab.output.renderOutput(dataTable, element);\n",
              "        const docLink = document.createElement('div');\n",
              "        docLink.innerHTML = docLinkHtml;\n",
              "        element.appendChild(docLink);\n",
              "      }\n",
              "    </script>\n",
              "  </div>\n",
              "\n",
              "\n",
              "<div id=\"df-7dd5cd19-5d17-4cd2-a95e-52b6024a1012\">\n",
              "  <button class=\"colab-df-quickchart\" onclick=\"quickchart('df-7dd5cd19-5d17-4cd2-a95e-52b6024a1012')\"\n",
              "            title=\"Suggest charts\"\n",
              "            style=\"display:none;\">\n",
              "\n",
              "<svg xmlns=\"http://www.w3.org/2000/svg\" height=\"24px\"viewBox=\"0 0 24 24\"\n",
              "     width=\"24px\">\n",
              "    <g>\n",
              "        <path d=\"M19 3H5c-1.1 0-2 .9-2 2v14c0 1.1.9 2 2 2h14c1.1 0 2-.9 2-2V5c0-1.1-.9-2-2-2zM9 17H7v-7h2v7zm4 0h-2V7h2v10zm4 0h-2v-4h2v4z\"/>\n",
              "    </g>\n",
              "</svg>\n",
              "  </button>\n",
              "\n",
              "<style>\n",
              "  .colab-df-quickchart {\n",
              "      --bg-color: #E8F0FE;\n",
              "      --fill-color: #1967D2;\n",
              "      --hover-bg-color: #E2EBFA;\n",
              "      --hover-fill-color: #174EA6;\n",
              "      --disabled-fill-color: #AAA;\n",
              "      --disabled-bg-color: #DDD;\n",
              "  }\n",
              "\n",
              "  [theme=dark] .colab-df-quickchart {\n",
              "      --bg-color: #3B4455;\n",
              "      --fill-color: #D2E3FC;\n",
              "      --hover-bg-color: #434B5C;\n",
              "      --hover-fill-color: #FFFFFF;\n",
              "      --disabled-bg-color: #3B4455;\n",
              "      --disabled-fill-color: #666;\n",
              "  }\n",
              "\n",
              "  .colab-df-quickchart {\n",
              "    background-color: var(--bg-color);\n",
              "    border: none;\n",
              "    border-radius: 50%;\n",
              "    cursor: pointer;\n",
              "    display: none;\n",
              "    fill: var(--fill-color);\n",
              "    height: 32px;\n",
              "    padding: 0;\n",
              "    width: 32px;\n",
              "  }\n",
              "\n",
              "  .colab-df-quickchart:hover {\n",
              "    background-color: var(--hover-bg-color);\n",
              "    box-shadow: 0 1px 2px rgba(60, 64, 67, 0.3), 0 1px 3px 1px rgba(60, 64, 67, 0.15);\n",
              "    fill: var(--button-hover-fill-color);\n",
              "  }\n",
              "\n",
              "  .colab-df-quickchart-complete:disabled,\n",
              "  .colab-df-quickchart-complete:disabled:hover {\n",
              "    background-color: var(--disabled-bg-color);\n",
              "    fill: var(--disabled-fill-color);\n",
              "    box-shadow: none;\n",
              "  }\n",
              "\n",
              "  .colab-df-spinner {\n",
              "    border: 2px solid var(--fill-color);\n",
              "    border-color: transparent;\n",
              "    border-bottom-color: var(--fill-color);\n",
              "    animation:\n",
              "      spin 1s steps(1) infinite;\n",
              "  }\n",
              "\n",
              "  @keyframes spin {\n",
              "    0% {\n",
              "      border-color: transparent;\n",
              "      border-bottom-color: var(--fill-color);\n",
              "      border-left-color: var(--fill-color);\n",
              "    }\n",
              "    20% {\n",
              "      border-color: transparent;\n",
              "      border-left-color: var(--fill-color);\n",
              "      border-top-color: var(--fill-color);\n",
              "    }\n",
              "    30% {\n",
              "      border-color: transparent;\n",
              "      border-left-color: var(--fill-color);\n",
              "      border-top-color: var(--fill-color);\n",
              "      border-right-color: var(--fill-color);\n",
              "    }\n",
              "    40% {\n",
              "      border-color: transparent;\n",
              "      border-right-color: var(--fill-color);\n",
              "      border-top-color: var(--fill-color);\n",
              "    }\n",
              "    60% {\n",
              "      border-color: transparent;\n",
              "      border-right-color: var(--fill-color);\n",
              "    }\n",
              "    80% {\n",
              "      border-color: transparent;\n",
              "      border-right-color: var(--fill-color);\n",
              "      border-bottom-color: var(--fill-color);\n",
              "    }\n",
              "    90% {\n",
              "      border-color: transparent;\n",
              "      border-bottom-color: var(--fill-color);\n",
              "    }\n",
              "  }\n",
              "</style>\n",
              "\n",
              "  <script>\n",
              "    async function quickchart(key) {\n",
              "      const quickchartButtonEl =\n",
              "        document.querySelector('#' + key + ' button');\n",
              "      quickchartButtonEl.disabled = true;  // To prevent multiple clicks.\n",
              "      quickchartButtonEl.classList.add('colab-df-spinner');\n",
              "      try {\n",
              "        const charts = await google.colab.kernel.invokeFunction(\n",
              "            'suggestCharts', [key], {});\n",
              "      } catch (error) {\n",
              "        console.error('Error during call to suggestCharts:', error);\n",
              "      }\n",
              "      quickchartButtonEl.classList.remove('colab-df-spinner');\n",
              "      quickchartButtonEl.classList.add('colab-df-quickchart-complete');\n",
              "    }\n",
              "    (() => {\n",
              "      let quickchartButtonEl =\n",
              "        document.querySelector('#df-7dd5cd19-5d17-4cd2-a95e-52b6024a1012 button');\n",
              "      quickchartButtonEl.style.display =\n",
              "        google.colab.kernel.accessAllowed ? 'block' : 'none';\n",
              "    })();\n",
              "  </script>\n",
              "</div>\n",
              "\n",
              "    </div>\n",
              "  </div>\n"
            ],
            "application/vnd.google.colaboratory.intrinsic+json": {
              "type": "dataframe",
              "variable_name": "df_resultados_reaccion_1_uno",
              "summary": "{\n  \"name\": \"df_resultados_reaccion_1_uno\",\n  \"rows\": 36,\n  \"fields\": [\n    {\n      \"column\": \"valor_a3\",\n      \"properties\": {\n        \"dtype\": \"number\",\n        \"std\": 0.2618614682831909,\n        \"min\": 0.1,\n        \"max\": 0.9,\n        \"num_unique_values\": 9,\n        \"samples\": [\n          0.8,\n          0.2,\n          0.6\n        ],\n        \"semantic_type\": \"\",\n        \"description\": \"\"\n      }\n    },\n    {\n      \"column\": \"valor_b\",\n      \"properties\": {\n        \"dtype\": \"number\",\n        \"std\": 28,\n        \"min\": 100,\n        \"max\": 175,\n        \"num_unique_values\": 4,\n        \"samples\": [\n          125,\n          175,\n          100\n        ],\n        \"semantic_type\": \"\",\n        \"description\": \"\"\n      }\n    },\n    {\n      \"column\": \"q_lider1\",\n      \"properties\": {\n        \"dtype\": \"string\",\n        \"num_unique_values\": 36,\n        \"samples\": [\n          \"0.272661551328869\",\n          \"0.379469652141633\",\n          \"0.317156647977385\"\n        ],\n        \"semantic_type\": \"\",\n        \"description\": \"\"\n      }\n    },\n    {\n      \"column\": \"q_segudiora1\",\n      \"properties\": {\n        \"dtype\": \"string\",\n        \"num_unique_values\": 36,\n        \"samples\": [\n          \"0.140880003241080\",\n          \"0.197705093744617\",\n          \"0.164586193767406\"\n        ],\n        \"semantic_type\": \"\",\n        \"description\": \"\"\n      }\n    },\n    {\n      \"column\": \"beneficio_lider1\",\n      \"properties\": {\n        \"dtype\": \"string\",\n        \"num_unique_values\": 36,\n        \"samples\": [\n          \"1.72228670155897\",\n          \"4.38290072314284\",\n          \"2.83136735515322\"\n        ],\n        \"semantic_type\": \"\",\n        \"description\": \"\"\n      }\n    },\n    {\n      \"column\": \"beneficio_seguidora1\",\n      \"properties\": {\n        \"dtype\": \"string\",\n        \"num_unique_values\": 36,\n        \"samples\": [\n          \"-1.49194063099845\",\n          \"-0.0492738249949589\",\n          \"-0.889833023513214\"\n        ],\n        \"semantic_type\": \"\",\n        \"description\": \"\"\n      }\n    }\n  ]\n}"
            }
          },
          "metadata": {},
          "execution_count": 25
        }
      ]
    }
  ],
  "metadata": {
    "colab": {
      "provenance": [],
      "include_colab_link": true
    },
    "kernelspec": {
      "display_name": "Python 3",
      "name": "python3"
    },
    "language_info": {
      "name": "python"
    }
  },
  "nbformat": 4,
  "nbformat_minor": 0
}